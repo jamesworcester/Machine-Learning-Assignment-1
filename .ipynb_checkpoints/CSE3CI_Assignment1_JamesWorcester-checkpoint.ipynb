{
 "cells": [
  {
   "cell_type": "markdown",
   "id": "08b43abf",
   "metadata": {},
   "source": [
    "# CSE3CI: Computational Intelligence - Assignment 1\n",
    "Student Name: James Worcester\\\n",
    "Student Number: 20767086\n"
   ]
  },
  {
   "cell_type": "markdown",
   "id": "1cf0668f",
   "metadata": {},
   "source": [
    "## 1. Load the dataset, do basic data preprocessing, and split the dataset."
   ]
  },
  {
   "cell_type": "markdown",
   "id": "82ae9af2",
   "metadata": {},
   "source": [
    "The dataset is provided for you in the .csv file format in the same folder. The\n",
    "first column (income) would be our target and true label (y), and the rest of the 9\n",
    "columns would be used as predictors to create input X. Detailed steps will need\n",
    "to include (you can apply additional preprocessing if you find necessary):"
   ]
  },
  {
   "cell_type": "markdown",
   "id": "c28c6728",
   "metadata": {},
   "source": [
    "### Loading the data into pandas"
   ]
  },
  {
   "cell_type": "code",
   "execution_count": 55,
   "id": "f6f61bfa",
   "metadata": {},
   "outputs": [],
   "source": [
    "import pandas as pd\n",
    "\n",
    "dataset = pd.read_csv(\"income.csv\")"
   ]
  },
  {
   "cell_type": "markdown",
   "id": "8b0f7aa1",
   "metadata": {},
   "source": [
    "### 1a. Describe the dataset (before and after the pre-processing), for example, variable type, and data shape. (You may also consider applying correlation analysis, optional)"
   ]
  },
  {
   "cell_type": "markdown",
   "id": "88fba775",
   "metadata": {},
   "source": [
    "### Dataset BEFORE pre-processing:"
   ]
  },
  {
   "cell_type": "markdown",
   "id": "481954af",
   "metadata": {},
   "source": [
    "##### i) Check dataset length (number of entries):"
   ]
  },
  {
   "cell_type": "code",
   "execution_count": 56,
   "id": "fcc772ab",
   "metadata": {},
   "outputs": [
    {
     "name": "stdout",
     "output_type": "stream",
     "text": [
      "dataset length: 26215\n"
     ]
    }
   ],
   "source": [
    "print(\"dataset length:\", len(dataset))"
   ]
  },
  {
   "cell_type": "markdown",
   "id": "c25257ad",
   "metadata": {},
   "source": [
    "##### ii) Describe the dataset (get a summary of numerical columns):"
   ]
  },
  {
   "cell_type": "code",
   "execution_count": 57,
   "id": "46420069",
   "metadata": {},
   "outputs": [
    {
     "data": {
      "text/html": [
       "<div>\n",
       "<style scoped>\n",
       "    .dataframe tbody tr th:only-of-type {\n",
       "        vertical-align: middle;\n",
       "    }\n",
       "\n",
       "    .dataframe tbody tr th {\n",
       "        vertical-align: top;\n",
       "    }\n",
       "\n",
       "    .dataframe thead th {\n",
       "        text-align: right;\n",
       "    }\n",
       "</style>\n",
       "<table border=\"1\" class=\"dataframe\">\n",
       "  <thead>\n",
       "    <tr style=\"text-align: right;\">\n",
       "      <th></th>\n",
       "      <th>income</th>\n",
       "      <th>age</th>\n",
       "      <th>hours-per-week</th>\n",
       "    </tr>\n",
       "  </thead>\n",
       "  <tbody>\n",
       "    <tr>\n",
       "      <th>count</th>\n",
       "      <td>26215.000000</td>\n",
       "      <td>26215.000000</td>\n",
       "      <td>26215.000000</td>\n",
       "    </tr>\n",
       "    <tr>\n",
       "      <th>mean</th>\n",
       "      <td>0.299104</td>\n",
       "      <td>39.045661</td>\n",
       "      <td>40.816632</td>\n",
       "    </tr>\n",
       "    <tr>\n",
       "      <th>std</th>\n",
       "      <td>0.457874</td>\n",
       "      <td>13.557816</td>\n",
       "      <td>12.351215</td>\n",
       "    </tr>\n",
       "    <tr>\n",
       "      <th>min</th>\n",
       "      <td>0.000000</td>\n",
       "      <td>17.000000</td>\n",
       "      <td>1.000000</td>\n",
       "    </tr>\n",
       "    <tr>\n",
       "      <th>25%</th>\n",
       "      <td>0.000000</td>\n",
       "      <td>28.000000</td>\n",
       "      <td>40.000000</td>\n",
       "    </tr>\n",
       "    <tr>\n",
       "      <th>50%</th>\n",
       "      <td>0.000000</td>\n",
       "      <td>38.000000</td>\n",
       "      <td>40.000000</td>\n",
       "    </tr>\n",
       "    <tr>\n",
       "      <th>75%</th>\n",
       "      <td>1.000000</td>\n",
       "      <td>48.000000</td>\n",
       "      <td>45.000000</td>\n",
       "    </tr>\n",
       "    <tr>\n",
       "      <th>max</th>\n",
       "      <td>1.000000</td>\n",
       "      <td>90.000000</td>\n",
       "      <td>99.000000</td>\n",
       "    </tr>\n",
       "  </tbody>\n",
       "</table>\n",
       "</div>"
      ],
      "text/plain": [
       "             income           age  hours-per-week\n",
       "count  26215.000000  26215.000000    26215.000000\n",
       "mean       0.299104     39.045661       40.816632\n",
       "std        0.457874     13.557816       12.351215\n",
       "min        0.000000     17.000000        1.000000\n",
       "25%        0.000000     28.000000       40.000000\n",
       "50%        0.000000     38.000000       40.000000\n",
       "75%        1.000000     48.000000       45.000000\n",
       "max        1.000000     90.000000       99.000000"
      ]
     },
     "execution_count": 57,
     "metadata": {},
     "output_type": "execute_result"
    }
   ],
   "source": [
    "dataset.describe()"
   ]
  },
  {
   "cell_type": "markdown",
   "id": "c9ef5814",
   "metadata": {},
   "source": [
    "##### iii) Check dataset shape:"
   ]
  },
  {
   "cell_type": "code",
   "execution_count": 58,
   "id": "66719fab",
   "metadata": {},
   "outputs": [
    {
     "data": {
      "text/plain": [
       "(26215, 10)"
      ]
     },
     "execution_count": 58,
     "metadata": {},
     "output_type": "execute_result"
    }
   ],
   "source": [
    "dataset.shape"
   ]
  },
  {
   "cell_type": "markdown",
   "id": "928fb44e",
   "metadata": {},
   "source": [
    "##### iv) Check variable data types:"
   ]
  },
  {
   "cell_type": "code",
   "execution_count": 59,
   "id": "572fba84",
   "metadata": {},
   "outputs": [
    {
     "data": {
      "text/plain": [
       "income             int64\n",
       "age                int64\n",
       "workclass         object\n",
       "education         object\n",
       "marital-status    object\n",
       "occupation        object\n",
       "relationship      object\n",
       "race              object\n",
       "sex               object\n",
       "hours-per-week     int64\n",
       "dtype: object"
      ]
     },
     "execution_count": 59,
     "metadata": {},
     "output_type": "execute_result"
    }
   ],
   "source": [
    "dataset.dtypes"
   ]
  },
  {
   "cell_type": "markdown",
   "id": "ffd3cbb0",
   "metadata": {},
   "source": [
    "##### v) Perform correllation analysis:"
   ]
  },
  {
   "cell_type": "code",
   "execution_count": 60,
   "id": "97b70596",
   "metadata": {},
   "outputs": [
    {
     "name": "stdout",
     "output_type": "stream",
     "text": [
      "                  income       age  hours-per-week\n",
      "income          1.000000  0.250758        0.246282\n",
      "age             0.250758  1.000000        0.066981\n",
      "hours-per-week  0.246282  0.066981        1.000000\n"
     ]
    }
   ],
   "source": [
    "print(dataset.corr())"
   ]
  },
  {
   "cell_type": "markdown",
   "id": "1e366265",
   "metadata": {},
   "source": [
    "### 1b. Deal with missing values (if there are any)"
   ]
  },
  {
   "cell_type": "markdown",
   "id": "8d436ff2",
   "metadata": {},
   "source": [
    "##### Dealing with missing values:"
   ]
  },
  {
   "cell_type": "markdown",
   "id": "bae8e037",
   "metadata": {},
   "source": [
    "##### i) Identify is there is any missing value in the dataset"
   ]
  },
  {
   "cell_type": "code",
   "execution_count": 61,
   "id": "38579d32",
   "metadata": {},
   "outputs": [
    {
     "data": {
      "text/plain": [
       "income               0\n",
       "age                  0\n",
       "workclass         1396\n",
       "education            0\n",
       "marital-status       0\n",
       "occupation        1401\n",
       "relationship         0\n",
       "race                 0\n",
       "sex                  0\n",
       "hours-per-week       0\n",
       "dtype: int64"
      ]
     },
     "execution_count": 61,
     "metadata": {},
     "output_type": "execute_result"
    }
   ],
   "source": [
    "dataset.isna().sum()"
   ]
  },
  {
   "cell_type": "markdown",
   "id": "5cf86500",
   "metadata": {},
   "source": [
    "##### ii) Drop the rows that have missing values"
   ]
  },
  {
   "cell_type": "code",
   "execution_count": 62,
   "id": "0a5a5159",
   "metadata": {},
   "outputs": [
    {
     "name": "stdout",
     "output_type": "stream",
     "text": [
      "dataset length: 24814\n"
     ]
    }
   ],
   "source": [
    "dataset = dataset.dropna()\n",
    "print(\"dataset length:\", len(dataset))"
   ]
  },
  {
   "cell_type": "markdown",
   "id": "d51da4a3",
   "metadata": {},
   "source": [
    "### 1c. Remove duplicated inputs if there are any."
   ]
  },
  {
   "cell_type": "markdown",
   "id": "ff8544c4",
   "metadata": {},
   "source": [
    "##### i) Check if there are any duplicated rows in the dataset"
   ]
  },
  {
   "cell_type": "code",
   "execution_count": 63,
   "id": "9125b9ed",
   "metadata": {},
   "outputs": [
    {
     "data": {
      "text/plain": [
       "True"
      ]
     },
     "execution_count": 63,
     "metadata": {},
     "output_type": "execute_result"
    }
   ],
   "source": [
    "dataset.duplicated().any()"
   ]
  },
  {
   "cell_type": "markdown",
   "id": "14d359f5",
   "metadata": {},
   "source": [
    "##### ii) Remove duplicated rows"
   ]
  },
  {
   "cell_type": "code",
   "execution_count": 64,
   "id": "c730e600",
   "metadata": {},
   "outputs": [
    {
     "name": "stdout",
     "output_type": "stream",
     "text": [
      "dataset length: 21537\n"
     ]
    }
   ],
   "source": [
    "dataset = dataset.drop_duplicates()\n",
    "print(\"dataset length:\", len(dataset))"
   ]
  },
  {
   "cell_type": "markdown",
   "id": "072cb372",
   "metadata": {},
   "source": [
    "### 1d. Handle the categorical variables"
   ]
  },
  {
   "cell_type": "markdown",
   "id": "ba278df8",
   "metadata": {},
   "source": [
    "##### i) Check variable data type"
   ]
  },
  {
   "cell_type": "code",
   "execution_count": 72,
   "id": "a3f803f4",
   "metadata": {},
   "outputs": [
    {
     "data": {
      "text/plain": [
       "income             int64\n",
       "age                int64\n",
       "workclass         object\n",
       "education          int64\n",
       "marital_status    object\n",
       "occupation        object\n",
       "relationship      object\n",
       "race              object\n",
       "sex                int64\n",
       "hours-per-week     int64\n",
       "dtype: object"
      ]
     },
     "execution_count": 72,
     "metadata": {},
     "output_type": "execute_result"
    }
   ],
   "source": [
    "dataset.dtypes"
   ]
  },
  {
   "cell_type": "markdown",
   "id": "768bd382",
   "metadata": {},
   "source": [
    "##### ii) Rename 'marital-status' column to 'marital_status' for ease of use in pandas"
   ]
  },
  {
   "cell_type": "code",
   "execution_count": 66,
   "id": "b3c4d514",
   "metadata": {},
   "outputs": [],
   "source": [
    "dataset = dataset.rename(columns={'marital-status': 'marital_status'})"
   ]
  },
  {
   "cell_type": "markdown",
   "id": "813dcc0b",
   "metadata": {},
   "source": [
    "##### iii) Check value count for categorical variables"
   ]
  },
  {
   "cell_type": "code",
   "execution_count": 68,
   "id": "a3cea381",
   "metadata": {},
   "outputs": [
    {
     "name": "stdout",
     "output_type": "stream",
     "text": [
      "workclass \n",
      "\n",
      "Private             15108\n",
      "Self-emp-not-inc     1999\n",
      "Local-gov            1656\n",
      "State-gov            1021\n",
      "Self-emp-inc          951\n",
      "Federal-gov           793\n",
      "Without-pay             9\n",
      "Name: workclass, dtype: int64 \n",
      "\n",
      "\n",
      "education \n",
      "\n",
      "HS-grad         6442\n",
      "Some-college    4668\n",
      "Bachelors       3701\n",
      "Masters         1324\n",
      "Assoc-voc       1007\n",
      "Assoc-acdm       814\n",
      "11th             718\n",
      "10th             592\n",
      "Prof-school      487\n",
      "7th-8th          427\n",
      "Doctorate        356\n",
      "9th              355\n",
      "12th             296\n",
      "5th-6th          212\n",
      "1st-4th          104\n",
      "Preschool         34\n",
      "Name: education, dtype: int64 \n",
      "\n",
      "\n",
      "marital_status \n",
      "\n",
      "Married       10291\n",
      "NotMarried     6752\n",
      "Separated      3848\n",
      "Widowed         646\n",
      "Name: marital_status, dtype: int64 \n",
      "\n",
      "\n",
      "occupation \n",
      "\n",
      "Prof-specialty       3212\n",
      "Exec-managerial      3017\n",
      "Sales                2597\n",
      "Adm-clerical         2589\n",
      "Craft-repair         2489\n",
      "Other-service        2244\n",
      "Machine-op-inspct    1302\n",
      "Transport-moving     1136\n",
      "Handlers-cleaners     862\n",
      "Farming-fishing       752\n",
      "Tech-support          692\n",
      "Protective-serv       522\n",
      "Priv-house-serv       118\n",
      "Armed-Forces            5\n",
      "Name: occupation, dtype: int64 \n",
      "\n",
      "\n",
      "relationship \n",
      "\n",
      "Husband           8928\n",
      "Not-in-family     5563\n",
      "Own-child         2811\n",
      "Unmarried         2376\n",
      "Wife              1185\n",
      "Other-relative     674\n",
      "Name: relationship, dtype: int64 \n",
      "\n",
      "\n",
      "race \n",
      "\n",
      "White                 18161\n",
      "Black                  2161\n",
      "Asian-Pac-Islander      785\n",
      "Amer-Indian-Eskimo      229\n",
      "Other                   201\n",
      "Name: race, dtype: int64 \n",
      "\n",
      "\n",
      "sex \n",
      "\n",
      "Male      14524\n",
      "Female     7013\n",
      "Name: sex, dtype: int64 \n",
      "\n",
      "\n"
     ]
    }
   ],
   "source": [
    "print(\"workclass\", \"\\n\")\n",
    "print(dataset.workclass.value_counts(), \"\\n\\n\")\n",
    "print(\"education\", \"\\n\")\n",
    "print(dataset.education.value_counts(), \"\\n\\n\")\n",
    "print(\"marital_status\", \"\\n\")\n",
    "print(dataset.marital_status.value_counts(), \"\\n\\n\")\n",
    "print(\"occupation\", \"\\n\")\n",
    "print(dataset.occupation.value_counts(), \"\\n\\n\")\n",
    "print(\"relationship\", \"\\n\")\n",
    "print(dataset.relationship.value_counts(), \"\\n\\n\")\n",
    "print(\"race\", \"\\n\")\n",
    "print(dataset.race.value_counts(), \"\\n\\n\")\n",
    "print(\"sex\", \"\\n\")\n",
    "print(dataset.sex.value_counts(), \"\\n\\n\")"
   ]
  },
  {
   "cell_type": "markdown",
   "id": "278d762a",
   "metadata": {},
   "source": [
    "##### iv) For the ordinal variable education, assign values 1 to 16 to the categories in this order: Preschool, 1st-4th, 5th-6th, 7th-8th, 9th, 10th, 11th, 12th, HS-grad, Some-college, Assoc-voc, Assoc-acdm, Bachelors, Masters, Prof-school, Doctorate."
   ]
  },
  {
   "cell_type": "code",
   "execution_count": 69,
   "id": "b595b781",
   "metadata": {},
   "outputs": [],
   "source": [
    "dataset['education'] = dataset['education'].replace({'Preschool' : 1, '1st-4th' : 2, '5th-6th' : 3, '7th-8th' : 4, '9th' : 5, '10th' : 6, '11th' : 7, '12th' : 8, 'HS-grad' : 9, 'Some-college' : 10, 'Assoc-voc' : 11, 'Assoc-acdm' : 12, 'Bachelors' : 13, 'Masters' : 14, 'Prof-school' : 15, 'Doctorate' : 16})\n"
   ]
  },
  {
   "cell_type": "markdown",
   "id": "79faa5a0",
   "metadata": {},
   "source": [
    "##### v) For the binary variable sex, assign value 0 to Male and value 1 to Female"
   ]
  },
  {
   "cell_type": "code",
   "execution_count": 73,
   "id": "615ff830",
   "metadata": {},
   "outputs": [],
   "source": [
    "dataset['sex'] = dataset['sex'].replace({'Male' : 0, 'Female' : 1})"
   ]
  },
  {
   "cell_type": "markdown",
   "id": "f267e81f",
   "metadata": {},
   "source": [
    "##### vi) For the rest of the variables, apply dummy coding to deal with them"
   ]
  },
  {
   "cell_type": "code",
   "execution_count": 74,
   "id": "55fd9407",
   "metadata": {},
   "outputs": [],
   "source": [
    "dataset = pd.get_dummies(dataset, columns=['workclass', 'marital_status', 'occupation', 'relationship', 'race'])"
   ]
  },
  {
   "cell_type": "markdown",
   "id": "eef61ecd",
   "metadata": {},
   "source": [
    "##### vii) Check the head of the dataset"
   ]
  },
  {
   "cell_type": "code",
   "execution_count": 75,
   "id": "0154906d",
   "metadata": {},
   "outputs": [
    {
     "data": {
      "text/html": [
       "<div>\n",
       "<style scoped>\n",
       "    .dataframe tbody tr th:only-of-type {\n",
       "        vertical-align: middle;\n",
       "    }\n",
       "\n",
       "    .dataframe tbody tr th {\n",
       "        vertical-align: top;\n",
       "    }\n",
       "\n",
       "    .dataframe thead th {\n",
       "        text-align: right;\n",
       "    }\n",
       "</style>\n",
       "<table border=\"1\" class=\"dataframe\">\n",
       "  <thead>\n",
       "    <tr style=\"text-align: right;\">\n",
       "      <th></th>\n",
       "      <th>income</th>\n",
       "      <th>age</th>\n",
       "      <th>education</th>\n",
       "      <th>sex</th>\n",
       "      <th>hours-per-week</th>\n",
       "      <th>workclass_Federal-gov</th>\n",
       "      <th>workclass_Local-gov</th>\n",
       "      <th>workclass_Private</th>\n",
       "      <th>workclass_Self-emp-inc</th>\n",
       "      <th>workclass_Self-emp-not-inc</th>\n",
       "      <th>...</th>\n",
       "      <th>relationship_Not-in-family</th>\n",
       "      <th>relationship_Other-relative</th>\n",
       "      <th>relationship_Own-child</th>\n",
       "      <th>relationship_Unmarried</th>\n",
       "      <th>relationship_Wife</th>\n",
       "      <th>race_Amer-Indian-Eskimo</th>\n",
       "      <th>race_Asian-Pac-Islander</th>\n",
       "      <th>race_Black</th>\n",
       "      <th>race_Other</th>\n",
       "      <th>race_White</th>\n",
       "    </tr>\n",
       "  </thead>\n",
       "  <tbody>\n",
       "    <tr>\n",
       "      <th>0</th>\n",
       "      <td>0</td>\n",
       "      <td>39</td>\n",
       "      <td>13</td>\n",
       "      <td>0</td>\n",
       "      <td>40</td>\n",
       "      <td>0</td>\n",
       "      <td>0</td>\n",
       "      <td>0</td>\n",
       "      <td>0</td>\n",
       "      <td>0</td>\n",
       "      <td>...</td>\n",
       "      <td>1</td>\n",
       "      <td>0</td>\n",
       "      <td>0</td>\n",
       "      <td>0</td>\n",
       "      <td>0</td>\n",
       "      <td>0</td>\n",
       "      <td>0</td>\n",
       "      <td>0</td>\n",
       "      <td>0</td>\n",
       "      <td>1</td>\n",
       "    </tr>\n",
       "    <tr>\n",
       "      <th>1</th>\n",
       "      <td>0</td>\n",
       "      <td>50</td>\n",
       "      <td>13</td>\n",
       "      <td>0</td>\n",
       "      <td>13</td>\n",
       "      <td>0</td>\n",
       "      <td>0</td>\n",
       "      <td>0</td>\n",
       "      <td>0</td>\n",
       "      <td>1</td>\n",
       "      <td>...</td>\n",
       "      <td>0</td>\n",
       "      <td>0</td>\n",
       "      <td>0</td>\n",
       "      <td>0</td>\n",
       "      <td>0</td>\n",
       "      <td>0</td>\n",
       "      <td>0</td>\n",
       "      <td>0</td>\n",
       "      <td>0</td>\n",
       "      <td>1</td>\n",
       "    </tr>\n",
       "    <tr>\n",
       "      <th>2</th>\n",
       "      <td>0</td>\n",
       "      <td>38</td>\n",
       "      <td>9</td>\n",
       "      <td>0</td>\n",
       "      <td>40</td>\n",
       "      <td>0</td>\n",
       "      <td>0</td>\n",
       "      <td>1</td>\n",
       "      <td>0</td>\n",
       "      <td>0</td>\n",
       "      <td>...</td>\n",
       "      <td>1</td>\n",
       "      <td>0</td>\n",
       "      <td>0</td>\n",
       "      <td>0</td>\n",
       "      <td>0</td>\n",
       "      <td>0</td>\n",
       "      <td>0</td>\n",
       "      <td>0</td>\n",
       "      <td>0</td>\n",
       "      <td>1</td>\n",
       "    </tr>\n",
       "    <tr>\n",
       "      <th>3</th>\n",
       "      <td>0</td>\n",
       "      <td>53</td>\n",
       "      <td>7</td>\n",
       "      <td>0</td>\n",
       "      <td>40</td>\n",
       "      <td>0</td>\n",
       "      <td>0</td>\n",
       "      <td>1</td>\n",
       "      <td>0</td>\n",
       "      <td>0</td>\n",
       "      <td>...</td>\n",
       "      <td>0</td>\n",
       "      <td>0</td>\n",
       "      <td>0</td>\n",
       "      <td>0</td>\n",
       "      <td>0</td>\n",
       "      <td>0</td>\n",
       "      <td>0</td>\n",
       "      <td>1</td>\n",
       "      <td>0</td>\n",
       "      <td>0</td>\n",
       "    </tr>\n",
       "    <tr>\n",
       "      <th>4</th>\n",
       "      <td>0</td>\n",
       "      <td>28</td>\n",
       "      <td>13</td>\n",
       "      <td>1</td>\n",
       "      <td>40</td>\n",
       "      <td>0</td>\n",
       "      <td>0</td>\n",
       "      <td>1</td>\n",
       "      <td>0</td>\n",
       "      <td>0</td>\n",
       "      <td>...</td>\n",
       "      <td>0</td>\n",
       "      <td>0</td>\n",
       "      <td>0</td>\n",
       "      <td>0</td>\n",
       "      <td>1</td>\n",
       "      <td>0</td>\n",
       "      <td>0</td>\n",
       "      <td>1</td>\n",
       "      <td>0</td>\n",
       "      <td>0</td>\n",
       "    </tr>\n",
       "  </tbody>\n",
       "</table>\n",
       "<p>5 rows × 41 columns</p>\n",
       "</div>"
      ],
      "text/plain": [
       "   income  age  education  sex  hours-per-week  workclass_Federal-gov  \\\n",
       "0       0   39         13    0              40                      0   \n",
       "1       0   50         13    0              13                      0   \n",
       "2       0   38          9    0              40                      0   \n",
       "3       0   53          7    0              40                      0   \n",
       "4       0   28         13    1              40                      0   \n",
       "\n",
       "   workclass_Local-gov  workclass_Private  workclass_Self-emp-inc  \\\n",
       "0                    0                  0                       0   \n",
       "1                    0                  0                       0   \n",
       "2                    0                  1                       0   \n",
       "3                    0                  1                       0   \n",
       "4                    0                  1                       0   \n",
       "\n",
       "   workclass_Self-emp-not-inc  ...  relationship_Not-in-family  \\\n",
       "0                           0  ...                           1   \n",
       "1                           1  ...                           0   \n",
       "2                           0  ...                           1   \n",
       "3                           0  ...                           0   \n",
       "4                           0  ...                           0   \n",
       "\n",
       "   relationship_Other-relative  relationship_Own-child  \\\n",
       "0                            0                       0   \n",
       "1                            0                       0   \n",
       "2                            0                       0   \n",
       "3                            0                       0   \n",
       "4                            0                       0   \n",
       "\n",
       "   relationship_Unmarried  relationship_Wife  race_Amer-Indian-Eskimo  \\\n",
       "0                       0                  0                        0   \n",
       "1                       0                  0                        0   \n",
       "2                       0                  0                        0   \n",
       "3                       0                  0                        0   \n",
       "4                       0                  1                        0   \n",
       "\n",
       "   race_Asian-Pac-Islander  race_Black  race_Other  race_White  \n",
       "0                        0           0           0           1  \n",
       "1                        0           0           0           1  \n",
       "2                        0           0           0           1  \n",
       "3                        0           1           0           0  \n",
       "4                        0           1           0           0  \n",
       "\n",
       "[5 rows x 41 columns]"
      ]
     },
     "execution_count": 75,
     "metadata": {},
     "output_type": "execute_result"
    }
   ],
   "source": [
    "dataset.head()"
   ]
  },
  {
   "cell_type": "markdown",
   "id": "f9e295f6",
   "metadata": {},
   "source": [
    "##### viii) Check the variable data types again"
   ]
  },
  {
   "cell_type": "code",
   "execution_count": 76,
   "id": "ae9f7e17",
   "metadata": {},
   "outputs": [
    {
     "data": {
      "text/plain": [
       "income                          int64\n",
       "age                             int64\n",
       "education                       int64\n",
       "sex                             int64\n",
       "hours-per-week                  int64\n",
       "workclass_Federal-gov           uint8\n",
       "workclass_Local-gov             uint8\n",
       "workclass_Private               uint8\n",
       "workclass_Self-emp-inc          uint8\n",
       "workclass_Self-emp-not-inc      uint8\n",
       "workclass_State-gov             uint8\n",
       "workclass_Without-pay           uint8\n",
       "marital_status_Married          uint8\n",
       "marital_status_NotMarried       uint8\n",
       "marital_status_Separated        uint8\n",
       "marital_status_Widowed          uint8\n",
       "occupation_Adm-clerical         uint8\n",
       "occupation_Armed-Forces         uint8\n",
       "occupation_Craft-repair         uint8\n",
       "occupation_Exec-managerial      uint8\n",
       "occupation_Farming-fishing      uint8\n",
       "occupation_Handlers-cleaners    uint8\n",
       "occupation_Machine-op-inspct    uint8\n",
       "occupation_Other-service        uint8\n",
       "occupation_Priv-house-serv      uint8\n",
       "occupation_Prof-specialty       uint8\n",
       "occupation_Protective-serv      uint8\n",
       "occupation_Sales                uint8\n",
       "occupation_Tech-support         uint8\n",
       "occupation_Transport-moving     uint8\n",
       "relationship_Husband            uint8\n",
       "relationship_Not-in-family      uint8\n",
       "relationship_Other-relative     uint8\n",
       "relationship_Own-child          uint8\n",
       "relationship_Unmarried          uint8\n",
       "relationship_Wife               uint8\n",
       "race_Amer-Indian-Eskimo         uint8\n",
       "race_Asian-Pac-Islander         uint8\n",
       "race_Black                      uint8\n",
       "race_Other                      uint8\n",
       "race_White                      uint8\n",
       "dtype: object"
      ]
     },
     "execution_count": 76,
     "metadata": {},
     "output_type": "execute_result"
    }
   ],
   "source": [
    "dataset.dtypes"
   ]
  },
  {
   "cell_type": "markdown",
   "id": "3fd9cc42",
   "metadata": {},
   "source": [
    "##### ix) Check the dataset shape again"
   ]
  },
  {
   "cell_type": "code",
   "execution_count": 79,
   "id": "b4ba2bca",
   "metadata": {},
   "outputs": [
    {
     "data": {
      "text/plain": [
       "(21537, 41)"
      ]
     },
     "execution_count": 79,
     "metadata": {},
     "output_type": "execute_result"
    }
   ],
   "source": [
    "dataset.shape"
   ]
  },
  {
   "cell_type": "markdown",
   "id": "65ded420",
   "metadata": {},
   "source": [
    "### 1e. Split the dataset into training and testing (with 10% of the dataset for testing)"
   ]
  },
  {
   "cell_type": "markdown",
   "id": "c6b2e1c7",
   "metadata": {},
   "source": [
    "##### i) Define the input variables and the target variable"
   ]
  },
  {
   "cell_type": "markdown",
   "id": "b75e41bd",
   "metadata": {},
   "source": [
    "Target variable is the first variable (income), and input variables are the rest of the columns"
   ]
  },
  {
   "cell_type": "code",
   "execution_count": 80,
   "id": "09fc691b",
   "metadata": {},
   "outputs": [],
   "source": [
    "array = dataset.values\n",
    "X = array[:,1:]\n",
    "y = array[:,0]"
   ]
  },
  {
   "cell_type": "markdown",
   "id": "c065489a",
   "metadata": {},
   "source": [
    "##### ii) Split the training and testing dataset"
   ]
  },
  {
   "cell_type": "code",
   "execution_count": 82,
   "id": "e497abc0",
   "metadata": {},
   "outputs": [],
   "source": [
    "from sklearn.model_selection import train_test_split\n",
    "\n",
    "X_train, X_test, y_train, y_test = train_test_split(X, y, test_size=0.1, random_state=1)"
   ]
  },
  {
   "cell_type": "markdown",
   "id": "d13a4c4e",
   "metadata": {},
   "source": [
    "### 1f. Apply normalization on X (both training and test set)."
   ]
  },
  {
   "cell_type": "code",
   "execution_count": 83,
   "id": "7c5f29a9",
   "metadata": {},
   "outputs": [],
   "source": [
    "from sklearn.preprocessing import MinMaxScaler\n",
    "\n",
    "# fit scaler on training data\n",
    "norm = MinMaxScaler().fit(X_train)\n",
    "\n",
    "# transform training data\n",
    "X_train_norm = norm.transform(X_train)\n",
    "\n",
    "# transform testing data\n",
    "X_test_norm = norm.transform(X_test)"
   ]
  },
  {
   "cell_type": "markdown",
   "id": "cfa82690",
   "metadata": {},
   "source": [
    "### 1g. (REFER TO REPORT) In your report, describe the dataset (before and after the processing), describe how you did the above steps (you just need to describe the steps and the result you get from each step, do not attach codes in the report), and discuss why you did them."
   ]
  },
  {
   "cell_type": "markdown",
   "id": "da6247ea",
   "metadata": {},
   "source": [
    "### Dataset AFTER pre-processing"
   ]
  },
  {
   "cell_type": "markdown",
   "id": "1afec51f",
   "metadata": {},
   "source": [
    "##### i) Check dataset length (number of entries):"
   ]
  },
  {
   "cell_type": "code",
   "execution_count": 84,
   "id": "9fa579f4",
   "metadata": {},
   "outputs": [
    {
     "name": "stdout",
     "output_type": "stream",
     "text": [
      "dataset length: 21537\n"
     ]
    }
   ],
   "source": [
    "print(\"dataset length:\", len(dataset))"
   ]
  },
  {
   "cell_type": "markdown",
   "id": "4f6e8b12",
   "metadata": {},
   "source": [
    "##### ii) Describe the dataset (get a summary of numerical columns):"
   ]
  },
  {
   "cell_type": "code",
   "execution_count": 86,
   "id": "6b03778e",
   "metadata": {},
   "outputs": [
    {
     "data": {
      "text/html": [
       "<div>\n",
       "<style scoped>\n",
       "    .dataframe tbody tr th:only-of-type {\n",
       "        vertical-align: middle;\n",
       "    }\n",
       "\n",
       "    .dataframe tbody tr th {\n",
       "        vertical-align: top;\n",
       "    }\n",
       "\n",
       "    .dataframe thead th {\n",
       "        text-align: right;\n",
       "    }\n",
       "</style>\n",
       "<table border=\"1\" class=\"dataframe\">\n",
       "  <thead>\n",
       "    <tr style=\"text-align: right;\">\n",
       "      <th></th>\n",
       "      <th>income</th>\n",
       "      <th>age</th>\n",
       "      <th>education</th>\n",
       "      <th>sex</th>\n",
       "      <th>hours-per-week</th>\n",
       "      <th>workclass_Federal-gov</th>\n",
       "      <th>workclass_Local-gov</th>\n",
       "      <th>workclass_Private</th>\n",
       "      <th>workclass_Self-emp-inc</th>\n",
       "      <th>workclass_Self-emp-not-inc</th>\n",
       "      <th>...</th>\n",
       "      <th>relationship_Not-in-family</th>\n",
       "      <th>relationship_Other-relative</th>\n",
       "      <th>relationship_Own-child</th>\n",
       "      <th>relationship_Unmarried</th>\n",
       "      <th>relationship_Wife</th>\n",
       "      <th>race_Amer-Indian-Eskimo</th>\n",
       "      <th>race_Asian-Pac-Islander</th>\n",
       "      <th>race_Black</th>\n",
       "      <th>race_Other</th>\n",
       "      <th>race_White</th>\n",
       "    </tr>\n",
       "  </thead>\n",
       "  <tbody>\n",
       "    <tr>\n",
       "      <th>count</th>\n",
       "      <td>21537.000000</td>\n",
       "      <td>21537.000000</td>\n",
       "      <td>21537.000000</td>\n",
       "      <td>21537.000000</td>\n",
       "      <td>21537.000000</td>\n",
       "      <td>21537.000000</td>\n",
       "      <td>21537.000000</td>\n",
       "      <td>21537.000000</td>\n",
       "      <td>21537.000000</td>\n",
       "      <td>21537.000000</td>\n",
       "      <td>...</td>\n",
       "      <td>21537.00000</td>\n",
       "      <td>21537.000000</td>\n",
       "      <td>21537.000000</td>\n",
       "      <td>21537.000000</td>\n",
       "      <td>21537.000000</td>\n",
       "      <td>21537.000000</td>\n",
       "      <td>21537.000000</td>\n",
       "      <td>21537.000000</td>\n",
       "      <td>21537.000000</td>\n",
       "      <td>21537.000000</td>\n",
       "    </tr>\n",
       "    <tr>\n",
       "      <th>mean</th>\n",
       "      <td>0.298881</td>\n",
       "      <td>39.407624</td>\n",
       "      <td>10.236337</td>\n",
       "      <td>0.325626</td>\n",
       "      <td>41.478015</td>\n",
       "      <td>0.036820</td>\n",
       "      <td>0.076891</td>\n",
       "      <td>0.701490</td>\n",
       "      <td>0.044157</td>\n",
       "      <td>0.092817</td>\n",
       "      <td>...</td>\n",
       "      <td>0.25830</td>\n",
       "      <td>0.031295</td>\n",
       "      <td>0.130520</td>\n",
       "      <td>0.110322</td>\n",
       "      <td>0.055022</td>\n",
       "      <td>0.010633</td>\n",
       "      <td>0.036449</td>\n",
       "      <td>0.100339</td>\n",
       "      <td>0.009333</td>\n",
       "      <td>0.843247</td>\n",
       "    </tr>\n",
       "    <tr>\n",
       "      <th>std</th>\n",
       "      <td>0.457778</td>\n",
       "      <td>13.203134</td>\n",
       "      <td>2.640455</td>\n",
       "      <td>0.468619</td>\n",
       "      <td>12.501092</td>\n",
       "      <td>0.188325</td>\n",
       "      <td>0.266424</td>\n",
       "      <td>0.457615</td>\n",
       "      <td>0.205448</td>\n",
       "      <td>0.290183</td>\n",
       "      <td>...</td>\n",
       "      <td>0.43771</td>\n",
       "      <td>0.174118</td>\n",
       "      <td>0.336882</td>\n",
       "      <td>0.313298</td>\n",
       "      <td>0.228028</td>\n",
       "      <td>0.102568</td>\n",
       "      <td>0.187409</td>\n",
       "      <td>0.300458</td>\n",
       "      <td>0.096157</td>\n",
       "      <td>0.363577</td>\n",
       "    </tr>\n",
       "    <tr>\n",
       "      <th>min</th>\n",
       "      <td>0.000000</td>\n",
       "      <td>17.000000</td>\n",
       "      <td>1.000000</td>\n",
       "      <td>0.000000</td>\n",
       "      <td>1.000000</td>\n",
       "      <td>0.000000</td>\n",
       "      <td>0.000000</td>\n",
       "      <td>0.000000</td>\n",
       "      <td>0.000000</td>\n",
       "      <td>0.000000</td>\n",
       "      <td>...</td>\n",
       "      <td>0.00000</td>\n",
       "      <td>0.000000</td>\n",
       "      <td>0.000000</td>\n",
       "      <td>0.000000</td>\n",
       "      <td>0.000000</td>\n",
       "      <td>0.000000</td>\n",
       "      <td>0.000000</td>\n",
       "      <td>0.000000</td>\n",
       "      <td>0.000000</td>\n",
       "      <td>0.000000</td>\n",
       "    </tr>\n",
       "    <tr>\n",
       "      <th>25%</th>\n",
       "      <td>0.000000</td>\n",
       "      <td>29.000000</td>\n",
       "      <td>9.000000</td>\n",
       "      <td>0.000000</td>\n",
       "      <td>40.000000</td>\n",
       "      <td>0.000000</td>\n",
       "      <td>0.000000</td>\n",
       "      <td>0.000000</td>\n",
       "      <td>0.000000</td>\n",
       "      <td>0.000000</td>\n",
       "      <td>...</td>\n",
       "      <td>0.00000</td>\n",
       "      <td>0.000000</td>\n",
       "      <td>0.000000</td>\n",
       "      <td>0.000000</td>\n",
       "      <td>0.000000</td>\n",
       "      <td>0.000000</td>\n",
       "      <td>0.000000</td>\n",
       "      <td>0.000000</td>\n",
       "      <td>0.000000</td>\n",
       "      <td>1.000000</td>\n",
       "    </tr>\n",
       "    <tr>\n",
       "      <th>50%</th>\n",
       "      <td>0.000000</td>\n",
       "      <td>38.000000</td>\n",
       "      <td>10.000000</td>\n",
       "      <td>0.000000</td>\n",
       "      <td>40.000000</td>\n",
       "      <td>0.000000</td>\n",
       "      <td>0.000000</td>\n",
       "      <td>1.000000</td>\n",
       "      <td>0.000000</td>\n",
       "      <td>0.000000</td>\n",
       "      <td>...</td>\n",
       "      <td>0.00000</td>\n",
       "      <td>0.000000</td>\n",
       "      <td>0.000000</td>\n",
       "      <td>0.000000</td>\n",
       "      <td>0.000000</td>\n",
       "      <td>0.000000</td>\n",
       "      <td>0.000000</td>\n",
       "      <td>0.000000</td>\n",
       "      <td>0.000000</td>\n",
       "      <td>1.000000</td>\n",
       "    </tr>\n",
       "    <tr>\n",
       "      <th>75%</th>\n",
       "      <td>1.000000</td>\n",
       "      <td>48.000000</td>\n",
       "      <td>13.000000</td>\n",
       "      <td>1.000000</td>\n",
       "      <td>47.000000</td>\n",
       "      <td>0.000000</td>\n",
       "      <td>0.000000</td>\n",
       "      <td>1.000000</td>\n",
       "      <td>0.000000</td>\n",
       "      <td>0.000000</td>\n",
       "      <td>...</td>\n",
       "      <td>1.00000</td>\n",
       "      <td>0.000000</td>\n",
       "      <td>0.000000</td>\n",
       "      <td>0.000000</td>\n",
       "      <td>0.000000</td>\n",
       "      <td>0.000000</td>\n",
       "      <td>0.000000</td>\n",
       "      <td>0.000000</td>\n",
       "      <td>0.000000</td>\n",
       "      <td>1.000000</td>\n",
       "    </tr>\n",
       "    <tr>\n",
       "      <th>max</th>\n",
       "      <td>1.000000</td>\n",
       "      <td>90.000000</td>\n",
       "      <td>16.000000</td>\n",
       "      <td>1.000000</td>\n",
       "      <td>99.000000</td>\n",
       "      <td>1.000000</td>\n",
       "      <td>1.000000</td>\n",
       "      <td>1.000000</td>\n",
       "      <td>1.000000</td>\n",
       "      <td>1.000000</td>\n",
       "      <td>...</td>\n",
       "      <td>1.00000</td>\n",
       "      <td>1.000000</td>\n",
       "      <td>1.000000</td>\n",
       "      <td>1.000000</td>\n",
       "      <td>1.000000</td>\n",
       "      <td>1.000000</td>\n",
       "      <td>1.000000</td>\n",
       "      <td>1.000000</td>\n",
       "      <td>1.000000</td>\n",
       "      <td>1.000000</td>\n",
       "    </tr>\n",
       "  </tbody>\n",
       "</table>\n",
       "<p>8 rows × 41 columns</p>\n",
       "</div>"
      ],
      "text/plain": [
       "             income           age     education           sex  hours-per-week  \\\n",
       "count  21537.000000  21537.000000  21537.000000  21537.000000    21537.000000   \n",
       "mean       0.298881     39.407624     10.236337      0.325626       41.478015   \n",
       "std        0.457778     13.203134      2.640455      0.468619       12.501092   \n",
       "min        0.000000     17.000000      1.000000      0.000000        1.000000   \n",
       "25%        0.000000     29.000000      9.000000      0.000000       40.000000   \n",
       "50%        0.000000     38.000000     10.000000      0.000000       40.000000   \n",
       "75%        1.000000     48.000000     13.000000      1.000000       47.000000   \n",
       "max        1.000000     90.000000     16.000000      1.000000       99.000000   \n",
       "\n",
       "       workclass_Federal-gov  workclass_Local-gov  workclass_Private  \\\n",
       "count           21537.000000         21537.000000       21537.000000   \n",
       "mean                0.036820             0.076891           0.701490   \n",
       "std                 0.188325             0.266424           0.457615   \n",
       "min                 0.000000             0.000000           0.000000   \n",
       "25%                 0.000000             0.000000           0.000000   \n",
       "50%                 0.000000             0.000000           1.000000   \n",
       "75%                 0.000000             0.000000           1.000000   \n",
       "max                 1.000000             1.000000           1.000000   \n",
       "\n",
       "       workclass_Self-emp-inc  workclass_Self-emp-not-inc  ...  \\\n",
       "count            21537.000000                21537.000000  ...   \n",
       "mean                 0.044157                    0.092817  ...   \n",
       "std                  0.205448                    0.290183  ...   \n",
       "min                  0.000000                    0.000000  ...   \n",
       "25%                  0.000000                    0.000000  ...   \n",
       "50%                  0.000000                    0.000000  ...   \n",
       "75%                  0.000000                    0.000000  ...   \n",
       "max                  1.000000                    1.000000  ...   \n",
       "\n",
       "       relationship_Not-in-family  relationship_Other-relative  \\\n",
       "count                 21537.00000                 21537.000000   \n",
       "mean                      0.25830                     0.031295   \n",
       "std                       0.43771                     0.174118   \n",
       "min                       0.00000                     0.000000   \n",
       "25%                       0.00000                     0.000000   \n",
       "50%                       0.00000                     0.000000   \n",
       "75%                       1.00000                     0.000000   \n",
       "max                       1.00000                     1.000000   \n",
       "\n",
       "       relationship_Own-child  relationship_Unmarried  relationship_Wife  \\\n",
       "count            21537.000000            21537.000000       21537.000000   \n",
       "mean                 0.130520                0.110322           0.055022   \n",
       "std                  0.336882                0.313298           0.228028   \n",
       "min                  0.000000                0.000000           0.000000   \n",
       "25%                  0.000000                0.000000           0.000000   \n",
       "50%                  0.000000                0.000000           0.000000   \n",
       "75%                  0.000000                0.000000           0.000000   \n",
       "max                  1.000000                1.000000           1.000000   \n",
       "\n",
       "       race_Amer-Indian-Eskimo  race_Asian-Pac-Islander    race_Black  \\\n",
       "count             21537.000000             21537.000000  21537.000000   \n",
       "mean                  0.010633                 0.036449      0.100339   \n",
       "std                   0.102568                 0.187409      0.300458   \n",
       "min                   0.000000                 0.000000      0.000000   \n",
       "25%                   0.000000                 0.000000      0.000000   \n",
       "50%                   0.000000                 0.000000      0.000000   \n",
       "75%                   0.000000                 0.000000      0.000000   \n",
       "max                   1.000000                 1.000000      1.000000   \n",
       "\n",
       "         race_Other    race_White  \n",
       "count  21537.000000  21537.000000  \n",
       "mean       0.009333      0.843247  \n",
       "std        0.096157      0.363577  \n",
       "min        0.000000      0.000000  \n",
       "25%        0.000000      1.000000  \n",
       "50%        0.000000      1.000000  \n",
       "75%        0.000000      1.000000  \n",
       "max        1.000000      1.000000  \n",
       "\n",
       "[8 rows x 41 columns]"
      ]
     },
     "execution_count": 86,
     "metadata": {},
     "output_type": "execute_result"
    }
   ],
   "source": [
    "dataset.describe()"
   ]
  },
  {
   "cell_type": "markdown",
   "id": "2ea35d25",
   "metadata": {},
   "source": [
    "##### iii) Check dataset shape:"
   ]
  },
  {
   "cell_type": "code",
   "execution_count": 87,
   "id": "fcea484e",
   "metadata": {},
   "outputs": [
    {
     "data": {
      "text/plain": [
       "(21537, 41)"
      ]
     },
     "execution_count": 87,
     "metadata": {},
     "output_type": "execute_result"
    }
   ],
   "source": [
    "dataset.shape"
   ]
  },
  {
   "cell_type": "markdown",
   "id": "c4f1d977",
   "metadata": {},
   "source": [
    "##### iv) Check variable data types:"
   ]
  },
  {
   "cell_type": "code",
   "execution_count": 88,
   "id": "8aee4c46",
   "metadata": {},
   "outputs": [
    {
     "data": {
      "text/plain": [
       "income                          int64\n",
       "age                             int64\n",
       "education                       int64\n",
       "sex                             int64\n",
       "hours-per-week                  int64\n",
       "workclass_Federal-gov           uint8\n",
       "workclass_Local-gov             uint8\n",
       "workclass_Private               uint8\n",
       "workclass_Self-emp-inc          uint8\n",
       "workclass_Self-emp-not-inc      uint8\n",
       "workclass_State-gov             uint8\n",
       "workclass_Without-pay           uint8\n",
       "marital_status_Married          uint8\n",
       "marital_status_NotMarried       uint8\n",
       "marital_status_Separated        uint8\n",
       "marital_status_Widowed          uint8\n",
       "occupation_Adm-clerical         uint8\n",
       "occupation_Armed-Forces         uint8\n",
       "occupation_Craft-repair         uint8\n",
       "occupation_Exec-managerial      uint8\n",
       "occupation_Farming-fishing      uint8\n",
       "occupation_Handlers-cleaners    uint8\n",
       "occupation_Machine-op-inspct    uint8\n",
       "occupation_Other-service        uint8\n",
       "occupation_Priv-house-serv      uint8\n",
       "occupation_Prof-specialty       uint8\n",
       "occupation_Protective-serv      uint8\n",
       "occupation_Sales                uint8\n",
       "occupation_Tech-support         uint8\n",
       "occupation_Transport-moving     uint8\n",
       "relationship_Husband            uint8\n",
       "relationship_Not-in-family      uint8\n",
       "relationship_Other-relative     uint8\n",
       "relationship_Own-child          uint8\n",
       "relationship_Unmarried          uint8\n",
       "relationship_Wife               uint8\n",
       "race_Amer-Indian-Eskimo         uint8\n",
       "race_Asian-Pac-Islander         uint8\n",
       "race_Black                      uint8\n",
       "race_Other                      uint8\n",
       "race_White                      uint8\n",
       "dtype: object"
      ]
     },
     "execution_count": 88,
     "metadata": {},
     "output_type": "execute_result"
    }
   ],
   "source": [
    "dataset.dtypes"
   ]
  },
  {
   "cell_type": "markdown",
   "id": "48c76a74",
   "metadata": {},
   "source": [
    "##### v) Perform correllation analysis:"
   ]
  },
  {
   "cell_type": "code",
   "execution_count": 89,
   "id": "9db2a39d",
   "metadata": {},
   "outputs": [
    {
     "name": "stdout",
     "output_type": "stream",
     "text": [
      "                                income       age  education       sex  \\\n",
      "income                        1.000000  0.234617   0.342573 -0.221008   \n",
      "age                           0.234617  1.000000   0.046948 -0.073147   \n",
      "education                     0.342573  0.046948   1.000000 -0.017316   \n",
      "sex                          -0.221008 -0.073147  -0.017316  1.000000   \n",
      "hours-per-week                0.237795  0.070756   0.144864 -0.233383   \n",
      "workclass_Federal-gov         0.059240  0.051313   0.061871 -0.006430   \n",
      "workclass_Local-gov           0.030859  0.062543   0.099116  0.041938   \n",
      "workclass_Private            -0.135985 -0.202156  -0.173605  0.087358   \n",
      "workclass_Self-emp-inc        0.147505  0.116666   0.080310 -0.095818   \n",
      "workclass_Self-emp-not-inc    0.031997  0.138250   0.008215 -0.115731   \n",
      "workclass_State-gov           0.016630  0.010191   0.106475  0.016103   \n",
      "workclass_Without-pay        -0.013350 -0.003384  -0.006132 -0.004512   \n",
      "marital_status_Married        0.459165  0.283192   0.097301 -0.415972   \n",
      "marital_status_NotMarried    -0.331030 -0.488309  -0.048396  0.161761   \n",
      "marital_status_Separated     -0.167896  0.110978  -0.037937  0.263568   \n",
      "marital_status_Widowed       -0.067241  0.249548  -0.068112  0.186260   \n",
      "occupation_Adm-clerical      -0.097561 -0.034976  -0.009997  0.253175   \n",
      "occupation_Armed-Forces      -0.003292 -0.008088   0.004407 -0.010589   \n",
      "occupation_Craft-repair      -0.020278  0.005780  -0.150174 -0.198810   \n",
      "occupation_Exec-managerial    0.195592  0.105879   0.183817 -0.032378   \n",
      "occupation_Farming-fishing   -0.062305  0.024454  -0.115121 -0.104645   \n",
      "occupation_Handlers-cleaners -0.092955 -0.094235  -0.132661 -0.082744   \n",
      "occupation_Machine-op-inspct -0.077945 -0.019135  -0.172122 -0.013705   \n",
      "occupation_Other-service     -0.177519 -0.076351  -0.184729  0.164528   \n",
      "occupation_Priv-house-serv   -0.047087  0.016432  -0.071203  0.100104   \n",
      "occupation_Prof-specialty     0.185647  0.050998   0.429423  0.037854   \n",
      "occupation_Protective-serv    0.029010 -0.005255   0.002359 -0.074724   \n",
      "occupation_Sales              0.017071 -0.016487   0.015079 -0.001719   \n",
      "occupation_Tech-support       0.029434 -0.021918   0.049306  0.015545   \n",
      "occupation_Transport-moving  -0.022475  0.024307  -0.132835 -0.136490   \n",
      "relationship_Husband          0.406139  0.287550   0.086561 -0.584516   \n",
      "relationship_Not-in-family   -0.195510 -0.029227   0.046052  0.154964   \n",
      "relationship_Other-relative  -0.096381 -0.071658  -0.100321  0.044689   \n",
      "relationship_Own-child       -0.233093 -0.391449  -0.097738  0.093141   \n",
      "relationship_Unmarried       -0.159983  0.039317  -0.068397  0.325225   \n",
      "relationship_Wife             0.135595  0.013865   0.039558  0.346819   \n",
      "race_Amer-Indian-Eskimo      -0.034062 -0.018973  -0.030539  0.012976   \n",
      "race_Asian-Pac-Islander       0.016442 -0.014374   0.065448 -0.008257   \n",
      "race_Black                   -0.093136 -0.030479  -0.075018  0.108606   \n",
      "race_Other                   -0.039110 -0.038767  -0.048374  0.006749   \n",
      "race_White                    0.088445  0.048202   0.049668 -0.090941   \n",
      "\n",
      "                              hours-per-week  workclass_Federal-gov  \\\n",
      "income                              0.237795               0.059240   \n",
      "age                                 0.070756               0.051313   \n",
      "education                           0.144864               0.061871   \n",
      "sex                                -0.233383              -0.006430   \n",
      "hours-per-week                      1.000000               0.005758   \n",
      "workclass_Federal-gov               0.005758               1.000000   \n",
      "workclass_Local-gov                -0.003870              -0.056429   \n",
      "workclass_Private                  -0.092807              -0.299724   \n",
      "workclass_Self-emp-inc              0.127251              -0.042024   \n",
      "workclass_Self-emp-not-inc          0.084423              -0.062540   \n",
      "workclass_State-gov                -0.037422              -0.043617   \n",
      "workclass_Without-pay              -0.013322              -0.003998   \n",
      "marital_status_Married              0.214457               0.016329   \n",
      "marital_status_NotMarried          -0.192654              -0.026898   \n",
      "marital_status_Separated           -0.002001               0.008570   \n",
      "marital_status_Widowed             -0.099553               0.006091   \n",
      "occupation_Adm-clerical            -0.113922               0.118023   \n",
      "occupation_Armed-Forces             0.002587               0.077939   \n",
      "occupation_Craft-repair             0.040770              -0.031346   \n",
      "occupation_Exec-managerial          0.126439               0.023381   \n",
      "occupation_Farming-fishing          0.098084              -0.027788   \n",
      "occupation_Handlers-cleaners       -0.049420              -0.014766   \n",
      "occupation_Machine-op-inspct       -0.012988              -0.037181   \n",
      "occupation_Other-service           -0.173255              -0.043277   \n",
      "occupation_Priv-house-serv         -0.050791              -0.014512   \n",
      "occupation_Prof-specialty           0.041839               0.026116   \n",
      "occupation_Protective-serv          0.025347               0.010870   \n",
      "occupation_Sales                    0.008710              -0.064071   \n",
      "occupation_Tech-support            -0.027882               0.048264   \n",
      "occupation_Transport-moving         0.066334              -0.022974   \n",
      "relationship_Husband                0.253640               0.022155   \n",
      "relationship_Not-in-family         -0.007240               0.009108   \n",
      "relationship_Other-relative        -0.056813              -0.012485   \n",
      "relationship_Own-child             -0.233898              -0.043549   \n",
      "relationship_Unmarried             -0.051961               0.012210   \n",
      "relationship_Wife                  -0.073765              -0.008252   \n",
      "race_Amer-Indian-Eskimo            -0.006354               0.015789   \n",
      "race_Asian-Pac-Islander            -0.007893               0.014598   \n",
      "race_Black                         -0.065397               0.040564   \n",
      "race_Other                         -0.009622              -0.003592   \n",
      "race_White                          0.062450              -0.044551   \n",
      "\n",
      "                              workclass_Local-gov  workclass_Private  \\\n",
      "income                                   0.030859          -0.135985   \n",
      "age                                      0.062543          -0.202156   \n",
      "education                                0.099116          -0.173605   \n",
      "sex                                      0.041938           0.087358   \n",
      "hours-per-week                          -0.003870          -0.092807   \n",
      "workclass_Federal-gov                   -0.056429          -0.299724   \n",
      "workclass_Local-gov                      1.000000          -0.442428   \n",
      "workclass_Private                       -0.442428           1.000000   \n",
      "workclass_Self-emp-inc                  -0.062032          -0.329485   \n",
      "workclass_Self-emp-not-inc              -0.092316          -0.490341   \n",
      "workclass_State-gov                     -0.064384          -0.341978   \n",
      "workclass_Without-pay                   -0.005901          -0.031344   \n",
      "marital_status_Married                   0.016299          -0.151546   \n",
      "marital_status_NotMarried               -0.038006           0.141190   \n",
      "marital_status_Separated                 0.016890           0.027723   \n",
      "marital_status_Widowed                   0.017705          -0.002476   \n",
      "occupation_Adm-clerical                  0.006393           0.015239   \n",
      "occupation_Armed-Forces                 -0.004398          -0.023360   \n",
      "occupation_Craft-repair                 -0.040547           0.019992   \n",
      "occupation_Exec-managerial              -0.023591          -0.067941   \n",
      "occupation_Farming-fishing              -0.035908          -0.103651   \n",
      "occupation_Handlers-cleaners            -0.029590           0.094893   \n",
      "occupation_Machine-op-inspct            -0.068090           0.133540   \n",
      "occupation_Other-service                -0.011719           0.079994   \n",
      "occupation_Priv-house-serv              -0.021422           0.048418   \n",
      "occupation_Prof-specialty                0.154125          -0.158994   \n",
      "occupation_Protective-serv               0.227633          -0.143293   \n",
      "occupation_Sales                        -0.103659           0.059585   \n",
      "occupation_Tech-support                 -0.020960           0.025069   \n",
      "occupation_Transport-moving              0.002068           0.035909   \n",
      "relationship_Husband                     0.003721          -0.150747   \n",
      "relationship_Not-in-family              -0.009056           0.048823   \n",
      "relationship_Other-relative             -0.016841           0.050231   \n",
      "relationship_Own-child                  -0.027492           0.103044   \n",
      "relationship_Unmarried                   0.022979           0.038949   \n",
      "relationship_Wife                        0.031249          -0.012133   \n",
      "race_Amer-Indian-Eskimo                  0.022756          -0.008549   \n",
      "race_Asian-Pac-Islander                 -0.029163           0.007217   \n",
      "race_Black                               0.031810           0.024680   \n",
      "race_Other                              -0.011700           0.030603   \n",
      "race_White                              -0.014580          -0.029798   \n",
      "\n",
      "                              workclass_Self-emp-inc  \\\n",
      "income                                      0.147505   \n",
      "age                                         0.116666   \n",
      "education                                   0.080310   \n",
      "sex                                        -0.095818   \n",
      "hours-per-week                              0.127251   \n",
      "workclass_Federal-gov                      -0.042024   \n",
      "workclass_Local-gov                        -0.062032   \n",
      "workclass_Private                          -0.329485   \n",
      "workclass_Self-emp-inc                      1.000000   \n",
      "workclass_Self-emp-not-inc                 -0.068750   \n",
      "workclass_State-gov                        -0.047948   \n",
      "workclass_Without-pay                      -0.004395   \n",
      "marital_status_Married                      0.125144   \n",
      "marital_status_NotMarried                  -0.097992   \n",
      "marital_status_Separated                   -0.042428   \n",
      "marital_status_Widowed                     -0.004671   \n",
      "occupation_Adm-clerical                    -0.061380   \n",
      "occupation_Armed-Forces                    -0.003275   \n",
      "occupation_Craft-repair                    -0.019020   \n",
      "occupation_Exec-managerial                  0.136604   \n",
      "occupation_Farming-fishing                  0.009596   \n",
      "occupation_Handlers-cleaners               -0.041581   \n",
      "occupation_Machine-op-inspct               -0.043141   \n",
      "occupation_Other-service                   -0.057027   \n",
      "occupation_Priv-house-serv                 -0.015953   \n",
      "occupation_Prof-specialty                   0.002011   \n",
      "occupation_Protective-serv                 -0.026526   \n",
      "occupation_Sales                            0.092533   \n",
      "occupation_Tech-support                    -0.036598   \n",
      "occupation_Transport-moving                -0.028474   \n",
      "relationship_Husband                        0.132019   \n",
      "relationship_Not-in-family                 -0.055066   \n",
      "relationship_Other-relative                -0.030844   \n",
      "relationship_Own-child                     -0.056439   \n",
      "relationship_Unmarried                     -0.047552   \n",
      "relationship_Wife                          -0.007261   \n",
      "race_Amer-Indian-Eskimo                    -0.017875   \n",
      "race_Asian-Pac-Islander                     0.006436   \n",
      "race_Black                                 -0.056735   \n",
      "race_Other                                 -0.011460   \n",
      "race_White                                  0.051641   \n",
      "\n",
      "                              workclass_Self-emp-not-inc  ...  \\\n",
      "income                                          0.031997  ...   \n",
      "age                                             0.138250  ...   \n",
      "education                                       0.008215  ...   \n",
      "sex                                            -0.115731  ...   \n",
      "hours-per-week                                  0.084423  ...   \n",
      "workclass_Federal-gov                          -0.062540  ...   \n",
      "workclass_Local-gov                            -0.092316  ...   \n",
      "workclass_Private                              -0.490341  ...   \n",
      "workclass_Self-emp-inc                         -0.068750  ...   \n",
      "workclass_Self-emp-not-inc                      1.000000  ...   \n",
      "workclass_State-gov                            -0.071356  ...   \n",
      "workclass_Without-pay                          -0.006540  ...   \n",
      "marital_status_Married                          0.121031  ...   \n",
      "marital_status_NotMarried                      -0.098887  ...   \n",
      "marital_status_Separated                       -0.037243  ...   \n",
      "marital_status_Widowed                         -0.001838  ...   \n",
      "occupation_Adm-clerical                        -0.096095  ...   \n",
      "occupation_Armed-Forces                        -0.004874  ...   \n",
      "occupation_Craft-repair                         0.078567  ...   \n",
      "occupation_Exec-managerial                      0.015662  ...   \n",
      "occupation_Farming-fishing                      0.223325  ...   \n",
      "occupation_Handlers-cleaners                   -0.057149  ...   \n",
      "occupation_Machine-op-inspct                   -0.059652  ...   \n",
      "occupation_Other-service                       -0.038381  ...   \n",
      "occupation_Priv-house-serv                     -0.023741  ...   \n",
      "occupation_Prof-specialty                       0.008028  ...   \n",
      "occupation_Protective-serv                     -0.044169  ...   \n",
      "occupation_Sales                                0.034374  ...   \n",
      "occupation_Tech-support                        -0.040132  ...   \n",
      "occupation_Transport-moving                    -0.006758  ...   \n",
      "relationship_Husband                            0.125806  ...   \n",
      "relationship_Not-in-family                     -0.042531  ...   \n",
      "relationship_Other-relative                    -0.019813  ...   \n",
      "relationship_Own-child                         -0.062655  ...   \n",
      "relationship_Unmarried                         -0.056455  ...   \n",
      "relationship_Wife                              -0.004904  ...   \n",
      "race_Amer-Indian-Eskimo                        -0.006638  ...   \n",
      "race_Asian-Pac-Islander                        -0.010128  ...   \n",
      "race_Black                                     -0.065282  ...   \n",
      "race_Other                                     -0.017733  ...   \n",
      "race_White                                      0.065732  ...   \n",
      "\n",
      "                              relationship_Not-in-family  \\\n",
      "income                                         -0.195510   \n",
      "age                                            -0.029227   \n",
      "education                                       0.046052   \n",
      "sex                                             0.154964   \n",
      "hours-per-week                                 -0.007240   \n",
      "workclass_Federal-gov                           0.009108   \n",
      "workclass_Local-gov                            -0.009056   \n",
      "workclass_Private                               0.048823   \n",
      "workclass_Self-emp-inc                         -0.055066   \n",
      "workclass_Self-emp-not-inc                     -0.042531   \n",
      "workclass_State-gov                             0.010621   \n",
      "workclass_Without-pay                          -0.012066   \n",
      "marital_status_Married                         -0.561969   \n",
      "marital_status_NotMarried                       0.339556   \n",
      "marital_status_Separated                        0.274445   \n",
      "marital_status_Widowed                          0.105811   \n",
      "occupation_Adm-clerical                         0.034988   \n",
      "occupation_Armed-Forces                         0.004933   \n",
      "occupation_Craft-repair                        -0.033482   \n",
      "occupation_Exec-managerial                     -0.008952   \n",
      "occupation_Farming-fishing                     -0.034812   \n",
      "occupation_Handlers-cleaners                   -0.007390   \n",
      "occupation_Machine-op-inspct                   -0.009484   \n",
      "occupation_Other-service                        0.031381   \n",
      "occupation_Priv-house-serv                      0.025179   \n",
      "occupation_Prof-specialty                       0.036135   \n",
      "occupation_Protective-serv                     -0.015060   \n",
      "occupation_Sales                               -0.011012   \n",
      "occupation_Tech-support                         0.006771   \n",
      "occupation_Transport-moving                    -0.032000   \n",
      "relationship_Husband                           -0.496575   \n",
      "relationship_Not-in-family                      1.000000   \n",
      "relationship_Other-relative                    -0.106069   \n",
      "relationship_Own-child                         -0.228642   \n",
      "relationship_Unmarried                         -0.207808   \n",
      "relationship_Wife                              -0.142398   \n",
      "race_Amer-Indian-Eskimo                        -0.004293   \n",
      "race_Asian-Pac-Islander                        -0.031000   \n",
      "race_Black                                      0.000641   \n",
      "race_Other                                     -0.001013   \n",
      "race_White                                      0.016929   \n",
      "\n",
      "                              relationship_Other-relative  \\\n",
      "income                                          -0.096381   \n",
      "age                                             -0.071658   \n",
      "education                                       -0.100321   \n",
      "sex                                              0.044689   \n",
      "hours-per-week                                  -0.056813   \n",
      "workclass_Federal-gov                           -0.012485   \n",
      "workclass_Local-gov                             -0.016841   \n",
      "workclass_Private                                0.050231   \n",
      "workclass_Self-emp-inc                          -0.030844   \n",
      "workclass_Self-emp-not-inc                      -0.019813   \n",
      "workclass_State-gov                             -0.018763   \n",
      "workclass_Without-pay                           -0.003675   \n",
      "marital_status_Married                          -0.119618   \n",
      "marital_status_NotMarried                        0.115366   \n",
      "marital_status_Separated                         0.009451   \n",
      "marital_status_Widowed                           0.015295   \n",
      "occupation_Adm-clerical                          0.015562   \n",
      "occupation_Armed-Forces                          0.032269   \n",
      "occupation_Craft-repair                         -0.007418   \n",
      "occupation_Exec-managerial                      -0.041043   \n",
      "occupation_Farming-fishing                      -0.000776   \n",
      "occupation_Handlers-cleaners                     0.044928   \n",
      "occupation_Machine-op-inspct                     0.015949   \n",
      "occupation_Other-service                         0.060905   \n",
      "occupation_Priv-house-serv                       0.037236   \n",
      "occupation_Prof-specialty                       -0.043060   \n",
      "occupation_Protective-serv                      -0.007519   \n",
      "occupation_Sales                                -0.005956   \n",
      "occupation_Tech-support                         -0.004017   \n",
      "occupation_Transport-moving                     -0.016167   \n",
      "relationship_Husband                            -0.151244   \n",
      "relationship_Not-in-family                      -0.106069   \n",
      "relationship_Other-relative                      1.000000   \n",
      "relationship_Own-child                          -0.069639   \n",
      "relationship_Unmarried                          -0.063293   \n",
      "relationship_Wife                               -0.043371   \n",
      "race_Amer-Indian-Eskimo                          0.004767   \n",
      "race_Asian-Pac-Islander                          0.040461   \n",
      "race_Black                                       0.048259   \n",
      "race_Other                                       0.032476   \n",
      "race_White                                      -0.070671   \n",
      "\n",
      "                              relationship_Own-child  relationship_Unmarried  \\\n",
      "income                                     -0.233093               -0.159983   \n",
      "age                                        -0.391449                0.039317   \n",
      "education                                  -0.097738               -0.068397   \n",
      "sex                                         0.093141                0.325225   \n",
      "hours-per-week                             -0.233898               -0.051961   \n",
      "workclass_Federal-gov                      -0.043549                0.012210   \n",
      "workclass_Local-gov                        -0.027492                0.022979   \n",
      "workclass_Private                           0.103044                0.038949   \n",
      "workclass_Self-emp-inc                     -0.056439               -0.047552   \n",
      "workclass_Self-emp-not-inc                 -0.062655               -0.056455   \n",
      "workclass_State-gov                        -0.011195                0.000252   \n",
      "workclass_Without-pay                       0.025797               -0.007200   \n",
      "marital_status_Married                     -0.351864               -0.336856   \n",
      "marital_status_NotMarried                   0.461022               -0.021370   \n",
      "marital_status_Separated                   -0.072406                0.388234   \n",
      "marital_status_Widowed                     -0.060859                0.172673   \n",
      "occupation_Adm-clerical                     0.051742                0.095875   \n",
      "occupation_Armed-Forces                    -0.005904               -0.005366   \n",
      "occupation_Craft-repair                    -0.033137               -0.041068   \n",
      "occupation_Exec-managerial                 -0.089661               -0.028969   \n",
      "occupation_Farming-fishing                  0.013402               -0.030649   \n",
      "occupation_Handlers-cleaners                0.080507               -0.015952   \n",
      "occupation_Machine-op-inspct               -0.001120                0.015149   \n",
      "occupation_Other-service                    0.097951                0.072494   \n",
      "occupation_Priv-house-serv                  0.001118                0.036104   \n",
      "occupation_Prof-specialty                  -0.073990               -0.020949   \n",
      "occupation_Protective-serv                 -0.009080               -0.031406   \n",
      "occupation_Sales                            0.030492               -0.021166   \n",
      "occupation_Tech-support                    -0.003376               -0.000288   \n",
      "occupation_Transport-moving                -0.020515               -0.037346   \n",
      "relationship_Husband                       -0.326020               -0.296313   \n",
      "relationship_Not-in-family                 -0.228642               -0.207808   \n",
      "relationship_Other-relative                -0.069639               -0.063293   \n",
      "relationship_Own-child                      1.000000               -0.136434   \n",
      "relationship_Unmarried                     -0.136434                1.000000   \n",
      "relationship_Wife                          -0.093490               -0.084971   \n",
      "race_Amer-Indian-Eskimo                     0.009556                0.029964   \n",
      "race_Asian-Pac-Islander                     0.009224               -0.012339   \n",
      "race_Black                                  0.026583                0.134959   \n",
      "race_Other                                 -0.001769                0.013603   \n",
      "race_White                                 -0.028951               -0.117220   \n",
      "\n",
      "                              relationship_Wife  race_Amer-Indian-Eskimo  \\\n",
      "income                                 0.135595                -0.034062   \n",
      "age                                    0.013865                -0.018973   \n",
      "education                              0.039558                -0.030539   \n",
      "sex                                    0.346819                 0.012976   \n",
      "hours-per-week                        -0.073765                -0.006354   \n",
      "workclass_Federal-gov                 -0.008252                 0.015789   \n",
      "workclass_Local-gov                    0.031249                 0.022756   \n",
      "workclass_Private                     -0.012133                -0.008549   \n",
      "workclass_Self-emp-inc                -0.007261                -0.017875   \n",
      "workclass_Self-emp-not-inc            -0.004904                -0.006638   \n",
      "workclass_State-gov                    0.006538                 0.002437   \n",
      "workclass_Without-pay                  0.014993                -0.002120   \n",
      "marital_status_Married                 0.252247                -0.021228   \n",
      "marital_status_NotMarried             -0.163065                 0.010936   \n",
      "marital_status_Separated              -0.112544                 0.011918   \n",
      "marital_status_Widowed                -0.042432                 0.005656   \n",
      "occupation_Adm-clerical                0.089256                -0.000736   \n",
      "occupation_Armed-Forces               -0.003677                 0.028135   \n",
      "occupation_Craft-repair               -0.074487                 0.012085   \n",
      "occupation_Exec-managerial             0.023468                -0.010538   \n",
      "occupation_Farming-fishing            -0.031477                -0.004922   \n",
      "occupation_Handlers-cleaners          -0.037843                 0.015784   \n",
      "occupation_Machine-op-inspct          -0.006526                -0.003503   \n",
      "occupation_Other-service               0.011019                 0.003171   \n",
      "occupation_Priv-house-serv             0.006917                -0.007695   \n",
      "occupation_Prof-specialty              0.056746                -0.006548   \n",
      "occupation_Protective-serv            -0.031409                 0.004267   \n",
      "occupation_Sales                      -0.024944                -0.007804   \n",
      "occupation_Tech-support                0.002223                -0.008620   \n",
      "occupation_Transport-moving           -0.045098                 0.016042   \n",
      "relationship_Husband                  -0.203045                -0.024747   \n",
      "relationship_Not-in-family            -0.142398                -0.004293   \n",
      "relationship_Other-relative           -0.043371                 0.004767   \n",
      "relationship_Own-child                -0.093490                 0.009556   \n",
      "relationship_Unmarried                -0.084971                 0.029964   \n",
      "relationship_Wife                      1.000000                 0.002780   \n",
      "race_Amer-Indian-Eskimo                0.002780                 1.000000   \n",
      "race_Asian-Pac-Islander                0.010657                -0.020163   \n",
      "race_Black                            -0.006033                -0.034621   \n",
      "race_Other                            -0.000126                -0.010062   \n",
      "race_White                            -0.001259                -0.240445   \n",
      "\n",
      "                              race_Asian-Pac-Islander  race_Black  race_Other  \\\n",
      "income                                       0.016442   -0.093136   -0.039110   \n",
      "age                                         -0.014374   -0.030479   -0.038767   \n",
      "education                                    0.065448   -0.075018   -0.048374   \n",
      "sex                                         -0.008257    0.108606    0.006749   \n",
      "hours-per-week                              -0.007893   -0.065397   -0.009622   \n",
      "workclass_Federal-gov                        0.014598    0.040564   -0.003592   \n",
      "workclass_Local-gov                         -0.029163    0.031810   -0.011700   \n",
      "workclass_Private                            0.007217    0.024680    0.030603   \n",
      "workclass_Self-emp-inc                       0.006436   -0.056735   -0.011460   \n",
      "workclass_Self-emp-not-inc                  -0.010128   -0.065282   -0.017733   \n",
      "workclass_State-gov                          0.016073    0.014947   -0.012563   \n",
      "workclass_Without-pay                       -0.003977    0.000733   -0.001985   \n",
      "marital_status_Married                       0.022273   -0.122698   -0.012610   \n",
      "marital_status_NotMarried                    0.015433    0.085116    0.023925   \n",
      "marital_status_Separated                    -0.044792    0.052806   -0.009974   \n",
      "marital_status_Widowed                      -0.006603    0.009224   -0.005744   \n",
      "occupation_Adm-clerical                      0.007340    0.051428   -0.009150   \n",
      "occupation_Armed-Forces                     -0.002964   -0.005089   -0.001479   \n",
      "occupation_Craft-repair                     -0.016833   -0.031296    0.001164   \n",
      "occupation_Exec-managerial                   0.002166   -0.047520   -0.028045   \n",
      "occupation_Farming-fishing                  -0.019449   -0.035741    0.005213   \n",
      "occupation_Handlers-cleaners                -0.018225    0.026418   -0.000110   \n",
      "occupation_Machine-op-inspct                 0.000565    0.041084    0.044269   \n",
      "occupation_Other-service                     0.012334    0.090464    0.009574   \n",
      "occupation_Priv-house-serv                  -0.004367    0.017083    0.012421   \n",
      "occupation_Prof-specialty                    0.028465   -0.056523    0.000031   \n",
      "occupation_Protective-serv                  -0.011320    0.028764    0.000403   \n",
      "occupation_Sales                            -0.002022   -0.032072   -0.006283   \n",
      "occupation_Tech-support                      0.016547   -0.022289   -0.009470   \n",
      "occupation_Transport-moving                 -0.021510    0.011764    0.003020   \n",
      "relationship_Husband                         0.009849   -0.118836   -0.017960   \n",
      "relationship_Not-in-family                  -0.031000    0.000641   -0.001013   \n",
      "relationship_Other-relative                  0.040461    0.048259    0.032476   \n",
      "relationship_Own-child                       0.009224    0.026583   -0.001769   \n",
      "relationship_Unmarried                      -0.012339    0.134959    0.013603   \n",
      "relationship_Wife                            0.010657   -0.006033   -0.000126   \n",
      "race_Amer-Indian-Eskimo                     -0.020163   -0.034621   -0.010062   \n",
      "race_Asian-Pac-Islander                      1.000000   -0.064953   -0.018878   \n",
      "race_Black                                  -0.064953    1.000000   -0.032414   \n",
      "race_Other                                  -0.018878   -0.032414    1.000000   \n",
      "race_White                                  -0.451101   -0.774576   -0.225118   \n",
      "\n",
      "                              race_White  \n",
      "income                          0.088445  \n",
      "age                             0.048202  \n",
      "education                       0.049668  \n",
      "sex                            -0.090941  \n",
      "hours-per-week                  0.062450  \n",
      "workclass_Federal-gov          -0.044551  \n",
      "workclass_Local-gov            -0.014580  \n",
      "workclass_Private              -0.029798  \n",
      "workclass_Self-emp-inc          0.051641  \n",
      "workclass_Self-emp-not-inc      0.065732  \n",
      "workclass_State-gov            -0.018002  \n",
      "workclass_Without-pay           0.002567  \n",
      "marital_status_Married          0.099240  \n",
      "marital_status_NotMarried      -0.087707  \n",
      "marital_status_Separated       -0.021274  \n",
      "marital_status_Widowed         -0.004296  \n",
      "occupation_Adm-clerical        -0.043655  \n",
      "occupation_Armed-Forces        -0.001813  \n",
      "occupation_Craft-repair         0.030822  \n",
      "occupation_Exec-managerial      0.048544  \n",
      "occupation_Farming-fishing      0.039571  \n",
      "occupation_Handlers-cleaners   -0.016861  \n",
      "occupation_Machine-op-inspct   -0.044963  \n",
      "occupation_Other-service       -0.084544  \n",
      "occupation_Priv-house-serv     -0.012981  \n",
      "occupation_Prof-specialty       0.033877  \n",
      "occupation_Protective-serv     -0.019245  \n",
      "occupation_Sales                0.031409  \n",
      "occupation_Tech-support         0.014827  \n",
      "occupation_Transport-moving    -0.003958  \n",
      "relationship_Husband            0.104860  \n",
      "relationship_Not-in-family      0.016929  \n",
      "relationship_Other-relative    -0.070671  \n",
      "relationship_Own-child         -0.028951  \n",
      "relationship_Unmarried         -0.117220  \n",
      "relationship_Wife              -0.001259  \n",
      "race_Amer-Indian-Eskimo        -0.240445  \n",
      "race_Asian-Pac-Islander        -0.451101  \n",
      "race_Black                     -0.774576  \n",
      "race_Other                     -0.225118  \n",
      "race_White                      1.000000  \n",
      "\n",
      "[41 rows x 41 columns]\n"
     ]
    }
   ],
   "source": [
    "print(dataset.corr())"
   ]
  },
  {
   "cell_type": "code",
   "execution_count": null,
   "id": "391fe180",
   "metadata": {},
   "outputs": [],
   "source": []
  }
 ],
 "metadata": {
  "kernelspec": {
   "display_name": "Python 3 (ipykernel)",
   "language": "python",
   "name": "python3"
  },
  "language_info": {
   "codemirror_mode": {
    "name": "ipython",
    "version": 3
   },
   "file_extension": ".py",
   "mimetype": "text/x-python",
   "name": "python",
   "nbconvert_exporter": "python",
   "pygments_lexer": "ipython3",
   "version": "3.7.13"
  }
 },
 "nbformat": 4,
 "nbformat_minor": 5
}
